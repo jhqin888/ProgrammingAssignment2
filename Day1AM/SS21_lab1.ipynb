{
  "nbformat": 4,
  "nbformat_minor": 0,
  "metadata": {
    "colab": {
      "name": "SS21_lab1.ipynb",
      "provenance": [],
      "collapsed_sections": [],
      "toc_visible": true,
      "include_colab_link": true
    },
    "kernelspec": {
      "name": "python3",
      "display_name": "Python 3"
    },
    "language_info": {
      "name": "python"
    }
  },
  "cells": [
    {
      "cell_type": "markdown",
      "metadata": {
        "id": "view-in-github",
        "colab_type": "text"
      },
      "source": [
        "<a href=\"https://colab.research.google.com/github/jhqin888/ProgrammingAssignment2/blob/master/Day1AM/SS21_lab1.ipynb\" target=\"_parent\"><img src=\"https://colab.research.google.com/assets/colab-badge.svg\" alt=\"Open In Colab\"/></a>"
      ]
    },
    {
      "cell_type": "markdown",
      "metadata": {
        "id": "Oh077mXnA-PZ"
      },
      "source": [
        "# **Linear Regression (Multi-variable)**\n",
        "\n",
        "**1) Linear model**"
      ]
    },
    {
      "cell_type": "markdown",
      "metadata": {
        "id": "6aq8dH1wwdKs"
      },
      "source": [
        "## 0. Import necessary modules\n"
      ]
    },
    {
      "cell_type": "code",
      "metadata": {
        "id": "heWY-eaFwowK"
      },
      "source": [
        "# import torch\n",
        "# import torch.nn as nn\n",
        "# import torch.optim as optim\n",
        "# import numpy as np\n",
        "# import matplotlib.pyplot as plt\n",
        "# from mpl_toolkits import mplot3d\n",
        "# from sklearn.metrics import mean_absolute_error\n",
        "# import argparse\n",
        "# import time"
      ],
      "execution_count": 1,
      "outputs": []
    },
    {
      "cell_type": "markdown",
      "metadata": {
        "id": "23sQEXhSfY4I"
      },
      "source": [
        "## 1. Data preparation\n",
        "\n",
        "Preparing data for linear regression. Data made of combining $sin(x)$ and $log(x)$ with some random error  \n",
        "\n",
        "$$y = \\ 2 sin(x_1) + log({1 \\over 2}x_2^2) + e$$  \n",
        "$$ e \\sim \\mathcal{N} (0, 0.5) $$\n",
        "\n",
        "As shown in the equation above, $sin(x)$ and $log(x)$ has different input $x_1$ and $x_2$ to have the output $y$. Therefore, the dataset we have has two input features for one $y$ value which requires **multivariable linear regression**.\n",
        "\n",
        "---\n",
        "The function generates total 2400 data and it is split into three parts; training, validation and testing. Each dataset has 1600, 400 and 400 respectively.\n",
        "\n",
        "**Data Set**  \n",
        "$$X_{train} \\in \\mathcal{R}^{1600 \\times 2}, Y_{train} \\in \\mathcal{R}^{1600}$$  \n",
        "$$X_{val} \\in \\mathcal{R}^{400 \\times 2}, Y_{val} \\in \\mathcal{R}^{400}$$  \n",
        "$$X_{test} \\in \\mathcal{R}^{400 \\times 2}, Y_{test} \\in \\mathcal{R}^{400}$$"
      ]
    },
    {
      "cell_type": "markdown",
      "metadata": {
        "id": "UMxObPIUGKRU"
      },
      "source": [
        "### Inspecting dataset"
      ]
    },
    {
      "cell_type": "code",
      "metadata": {
        "id": "rvmGZhJ-HHcB"
      },
      "source": [
        "# ====== Data generation using Numpy ====== #\n",
        "\n",
        "\n",
        "\n",
        "\n",
        "\n",
        "# ====== Split Dataset ====== #\n",
        "\n",
        "\n",
        "\n",
        "\n",
        "\n",
        "# ====== Visualize Each Dataset ====== #\n",
        "fig = plt.figure(figsize=(12,5))\n",
        "ax1 = fig.add_subplot(1, 3, 1, projection='3d')\n",
        "ax1.scatter(train_X[:, 0], train_X[:, 1], train_y, c=train_y, cmap='jet')\n",
        "\n",
        "ax1.set_xlabel('x1')\n",
        "ax1.set_ylabel('x2')\n",
        "ax1.set_zlabel('y')\n",
        "ax1.set_title('Train Set Distribution')\n",
        "ax1.set_zlim(-10, 6)\n",
        "ax1.view_init(40, -60)\n",
        "ax1.invert_xaxis()\n",
        "\n",
        "ax2 = fig.add_subplot(1, 3, 2, projection='3d')\n",
        "ax2.scatter(val_X[:, 0], val_X[:, 1], val_y, c=val_y, cmap='jet')\n",
        "\n",
        "ax2.set_xlabel('x1')\n",
        "ax2.set_ylabel('x2')\n",
        "ax2.set_zlabel('y')\n",
        "ax2.set_title('Validation Set Distribution')\n",
        "ax2.set_zlim(-10, 6)\n",
        "ax2.view_init(40, -60)\n",
        "ax2.invert_xaxis()\n",
        "\n",
        "ax3 = fig.add_subplot(1, 3, 3, projection='3d')\n",
        "ax3.scatter(test_X[:, 0], test_X[:, 1], test_y, c=test_y, cmap='jet')\n",
        "\n",
        "ax3.set_xlabel('x1')\n",
        "ax3.set_ylabel('x2')\n",
        "ax3.set_zlabel('y')\n",
        "ax3.set_title('Test Set Distribution')\n",
        "ax3.set_zlim(-10, 6)\n",
        "ax3.view_init(40, -60)\n",
        "ax3.invert_xaxis()\n",
        "\n",
        "plt.show()"
      ],
      "execution_count": null,
      "outputs": []
    },
    {
      "cell_type": "markdown",
      "metadata": {
        "id": "lEqtbTROlXuB"
      },
      "source": [
        "## 2. Model define  \n",
        "\n",
        "Linear model is defined as $H(x) = Wx + b$ by calling `nn.Linear` module in PyTorch.\n",
        "\n",
        "### **Linear Model**   \n",
        "$$H = \\ XW + b \\ \\ ( W \\in \\mathcal{R}^{2 \\times 1}, b \\in \\mathcal{R}^{1}, H \\in \\mathcal{R}^{N \\times 1})$$\n"
      ]
    },
    {
      "cell_type": "code",
      "metadata": {
        "id": "40ht43Q1JpYI"
      },
      "source": [
        "# ===== Linear model ===== #"
      ],
      "execution_count": null,
      "outputs": []
    },
    {
      "cell_type": "markdown",
      "metadata": {
        "id": "Eskjt4rnwdLi"
      },
      "source": [
        "## 3. Simulation Define\n",
        "\n",
        "`pytorch` has a function named `loss.backward()` to calculate parameter gradients and then `optimizer.step()` can update all parameters using those gradient.\n",
        "\n",
        "For every a certain amount of iteration, Test Set is tested by comparing the predicted value with true value using Mean Absolute Error. \n",
        "\n",
        "$$MAE(Y_{true}, Y_{predict}) = \\sum_{i} | \\ y_{true}^{(i)} - y_{predict}^{(i)} \\ | $$"
      ]
    },
    {
      "cell_type": "code",
      "metadata": {
        "id": "EqqcMEQTPTZG"
      },
      "source": [
        "def experiment(args):\n",
        "\n",
        "    # ===== call the model ===== #\n",
        "\n",
        "\n",
        "\n",
        "    # ====== Loss function ====== #\n",
        "    \n",
        "\n",
        "\n",
        "    # ====== Data collection ====== #\n",
        "    \n",
        "\n",
        "\n",
        "\n",
        "    # ====== Loop ====== #\n",
        "    for epoch in range(args.epoch):  \n",
        "        \n",
        "        # ====== Train ====== #\n",
        "        \n",
        "\n",
        "\n",
        "\n",
        "        \n",
        "        # ====== Validation ====== #\n",
        "\n",
        "\n",
        "\n",
        "\n",
        "\n",
        "        # ====== Evaluation ======= #\n",
        "        if epoch % 20 == 0: \n",
        "            \n",
        "\n",
        "\n",
        "\n",
        "            # ====== Calculate Accuracy ====== #\n",
        "\n",
        "\n",
        "\n",
        "\n",
        "\n",
        "             \n",
        "            # ====== True Y Scattering ====== #\n",
        "            fig = plt.figure(figsize=(15,5))\n",
        "           \n",
        "            ax1 = fig.add_subplot(1, 3, 1, projection='3d')\n",
        "            ax1.scatter(test_X[:, 0], test_X[:, 1], test_y, c=test_y, cmap='jet')\n",
        "            \n",
        "            ax1.set_xlabel('x1')\n",
        "            ax1.set_ylabel('x2')\n",
        "            ax1.set_zlabel('y')\n",
        "            ax1.set_zlim(-10, 6)\n",
        "            ax1.view_init(40, -40)\n",
        "            ax1.set_title('True test y')\n",
        "            ax1.invert_xaxis()\n",
        "\n",
        "            # ====== Predicted Y Scattering ====== #\n",
        "            ax2 = fig.add_subplot(1, 3, 2, projection='3d')\n",
        "            ax2.scatter(test_X[:, 0], test_X[:, 1], pred_y, c=pred_y[:,0], cmap='jet')\n",
        "\n",
        "            ax2.set_xlabel('x1')\n",
        "            ax2.set_ylabel('x2')\n",
        "            ax2.set_zlabel('y')\n",
        "            ax2.set_zlim(-10, 6)\n",
        "            ax2.view_init(40, -40)\n",
        "            ax2.set_title('Predicted test y')\n",
        "            ax2.invert_xaxis()\n",
        "\n",
        "            # ====== Just for Visualizaing with High Resolution ====== #\n",
        "            input_x = torch.Tensor(train_X)\n",
        "            pred_y = model(input_x).detach().numpy() \n",
        "            \n",
        "            ax3 = fig.add_subplot(1, 3, 3, projection='3d')\n",
        "            ax3.scatter(train_X[:, 0], train_X[:, 1], pred_y, c=pred_y[:,0], cmap='jet')\n",
        "\n",
        "            ax3.set_xlabel('x1')\n",
        "            ax3.set_ylabel('x2')\n",
        "            ax3.set_zlabel('y')\n",
        "            ax3.set_zlim(-10, 6)\n",
        "            ax3.view_init(40, -40)\n",
        "            ax3.set_title('Predicted train y')\n",
        "            ax3.invert_xaxis()\n",
        "            \n",
        "            plt.show()\n",
        "            print(f'\\n Epoch: {epoch}, loss: {loss.item():.4f}')\n",
        "\n",
        "    return list_epoch, list_train_loss, list_val_loss, list_acc, list_acc_epoch"
      ],
      "execution_count": null,
      "outputs": []
    },
    {
      "cell_type": "markdown",
      "metadata": {
        "id": "1KrjJxWByp8k"
      },
      "source": [
        "## 4. Train & Evaluation"
      ]
    },
    {
      "cell_type": "code",
      "metadata": {
        "id": "xafLwLx2QRyx"
      },
      "source": [
        "ts = time.time()\n",
        "\n",
        "seed = 123\n",
        "np.random.seed(seed)\n",
        "torch.manual_seed(seed)\n",
        "\n",
        "# ===== Set hyperparameters ===== #\n",
        "\n",
        "\n",
        "\n",
        "\n",
        "\n",
        "\n",
        "te = time.time()\n",
        "\n",
        "print('\\n Elapsed time: {} sec'.format(int(te-ts)))"
      ],
      "execution_count": null,
      "outputs": []
    },
    {
      "cell_type": "markdown",
      "metadata": {
        "id": "1JF2QSYOwdLm"
      },
      "source": [
        "## 5. Report  \n"
      ]
    },
    {
      "cell_type": "code",
      "metadata": {
        "id": "o9rQ1Zr9wdLq",
        "colab": {
          "base_uri": "https://localhost:8080/",
          "height": 335
        },
        "outputId": "11fe2786-a849-44d7-c57d-d004b0098c9a"
      },
      "source": [
        "fig = plt.figure(figsize=(15,5))\n",
        "\n",
        "# ====== Loss Fluctuation ====== #\n",
        "ax1 = fig.add_subplot(1, 2, 1)\n",
        "ax1.plot(list_epoch, list_train_loss, label='train_loss')\n",
        "ax1.plot(list_epoch, list_val_loss, '--', label='val_loss')\n",
        "ax1.set_xlabel('epoch')\n",
        "ax1.set_ylabel('loss')\n",
        "ax1.set_ylim(0, 5)\n",
        "ax1.grid()\n",
        "ax1.legend()\n",
        "ax1.set_title('epoch vs loss')\n",
        "\n",
        "# ====== Metric Fluctuation ====== #\n",
        "ax2 = fig.add_subplot(1, 2, 2)\n",
        "ax2.plot(list_acc_epoch, list_acc, marker='x', label='mae metric')\n",
        "\n",
        "ax2.set_xlabel('epoch')\n",
        "ax2.set_ylabel('mae')\n",
        "ax2.grid()\n",
        "ax2.legend()\n",
        "ax2.set_title('epoch vs mae')\n",
        "\n",
        "\n",
        "plt.show()"
      ],
      "execution_count": null,
      "outputs": [
        {
          "output_type": "display_data",
          "data": {
            "image/png": "[encoded data removed]",
            "text/plain": [
              "<Figure size 1080x360 with 2 Axes>"
            ]
          },
          "metadata": {
            "tags": [],
            "needs_background": "light"
          }
        }
      ]
    }
  ]
}